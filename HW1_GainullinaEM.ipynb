{
  "nbformat": 4,
  "nbformat_minor": 0,
  "metadata": {
    "colab": {
      "provenance": []
    },
    "kernelspec": {
      "name": "python3",
      "display_name": "Python 3"
    },
    "language_info": {
      "name": "python"
    }
  },
  "cells": [
    {
      "cell_type": "markdown",
      "source": [
        "# задача 1\n",
        "\\\n",
        "$$\n",
        "A = \\begin{pmatrix}\n",
        "6 & -8 & 3\n",
        "\\end{pmatrix}\n",
        "$$\n",
        "\n",
        "$$\n",
        "B = \\begin{pmatrix}\n",
        "1\\\\\n",
        "1\\\\\n",
        "4\n",
        "\\end{pmatrix}\n",
        "$$\n",
        "\n",
        "\n",
        "**A * B = ?**"
      ],
      "metadata": {
        "id": "3QGb9TRNyH4M"
      }
    },
    {
      "cell_type": "code",
      "source": [
        "import numpy as np\n",
        "A = np.matrix([6, -8, 3])\n",
        "B = np.matrix([[1], [1], [4]])\n",
        "A * B"
      ],
      "metadata": {
        "colab": {
          "base_uri": "https://localhost:8080/"
        },
        "id": "83AYb4qnyfjd",
        "outputId": "a5b90c62-1879-4c5c-a5fb-09cc3b0227d0"
      },
      "execution_count": null,
      "outputs": [
        {
          "output_type": "execute_result",
          "data": {
            "text/plain": [
              "matrix([[10]])"
            ]
          },
          "metadata": {},
          "execution_count": 26
        }
      ]
    },
    {
      "cell_type": "markdown",
      "source": [
        "# задача 2\n",
        "\\\n",
        "$$\n",
        "A = \\begin{pmatrix}\n",
        "-3 & -7\\\\\n",
        "-10 & 6\\\\\n",
        "0 & -6\\\\\n",
        "-1 & -3\n",
        "\\end{pmatrix}\n",
        "$$\n",
        "\n",
        "$$\n",
        "B = \\begin{pmatrix}\n",
        "-8 & 9\\\\\n",
        "4 & -2\n",
        "\\end{pmatrix}\n",
        "$$\n",
        "\n",
        "\n",
        "**A * B = ?**"
      ],
      "metadata": {
        "id": "w8GJYi0p7ZeZ"
      }
    },
    {
      "cell_type": "code",
      "execution_count": null,
      "metadata": {
        "colab": {
          "base_uri": "https://localhost:8080/"
        },
        "id": "g8Rm047Rq1wx",
        "outputId": "13ac92a7-2596-45fc-eb28-3a06ad7521f5"
      },
      "outputs": [
        {
          "output_type": "execute_result",
          "data": {
            "text/plain": [
              "matrix([[  -4,  -13],\n",
              "        [ 104, -102],\n",
              "        [ -24,   12],\n",
              "        [  -4,   -3]])"
            ]
          },
          "metadata": {},
          "execution_count": 24
        }
      ],
      "source": [
        "import numpy as np\n",
        "A = np.matrix([[-3, -7], [-10, 6], [0, -6], [-1, -3]])\n",
        "B = np.matrix([[-8, 9], [4, -2]])\n",
        "A * B"
      ]
    },
    {
      "cell_type": "markdown",
      "source": [
        "# Вариант без Numpy"
      ],
      "metadata": {
        "id": "6mybtPgo4K6o"
      }
    },
    {
      "cell_type": "code",
      "source": [
        "A = [6, -8, 3]\n",
        "B = [1, 1, 4]\n",
        "result = sum(a * b for a, b in zip(A, B))\n",
        "result"
      ],
      "metadata": {
        "colab": {
          "base_uri": "https://localhost:8080/"
        },
        "id": "oH8M4pYQ7zVR",
        "outputId": "22ee1854-3219-4160-f027-d0c64f28d787"
      },
      "execution_count": null,
      "outputs": [
        {
          "output_type": "execute_result",
          "data": {
            "text/plain": [
              "10"
            ]
          },
          "metadata": {},
          "execution_count": 45
        }
      ]
    },
    {
      "cell_type": "code",
      "source": [
        "A = [[-3, -7], [-10, 6], [0, -6], [-1, -3]]\n",
        "B = [[-8, 9], [4, -2]]\n",
        "rows_A = len(A)\n",
        "cols_A = len(A[0])\n",
        "rows_B = len(B)\n",
        "cols_B = len(B[0])\n",
        "result = [[0 for row in range(cols_B)] for col in range(rows_A)]\n",
        "\n",
        "for s in range(rows_A):\n",
        "    for j in range(cols_B):\n",
        "        for k in range(cols_A):\n",
        "            result[s][j] += A[s][k] * B[k][j]\n",
        "result"
      ],
      "metadata": {
        "colab": {
          "base_uri": "https://localhost:8080/"
        },
        "id": "rbXkknzJ5HSi",
        "outputId": "fc872118-0709-47fd-f32d-313b0fcca4b6"
      },
      "execution_count": null,
      "outputs": [
        {
          "output_type": "execute_result",
          "data": {
            "text/plain": [
              "[[-4, -13], [104, -102], [-24, 12], [-4, -3]]"
            ]
          },
          "metadata": {},
          "execution_count": 31
        }
      ]
    }
  ]
}