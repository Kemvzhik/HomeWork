{
  "nbformat": 4,
  "nbformat_minor": 0,
  "metadata": {
    "colab": {
      "provenance": []
    },
    "kernelspec": {
      "name": "python3",
      "display_name": "Python 3"
    },
    "language_info": {
      "name": "python"
    }
  },
  "cells": [
    {
      "cell_type": "markdown",
      "source": [
        "# задача 1\n",
        "Выполнить операции над матрицами:\n",
        "\n",
        "\\\n",
        "$$\n",
        "A = \\begin{pmatrix}\n",
        "1 & 2 & 1\\\\\n",
        "-2 & 1 & 1\n",
        "\\end{pmatrix}\n",
        "$$\n",
        "\n",
        "$$\n",
        "B = \\begin{pmatrix}\n",
        "3 & 1\\\\\n",
        "-1 & 0\\\\\n",
        "2 & 4\n",
        "\\end{pmatrix}\n",
        "$$\n",
        "\n",
        "$$\n",
        "C = \\begin{pmatrix}\n",
        "-2 & 2\\\\\n",
        "1 & -1\\\\\n",
        "1 & 2\n",
        "\\end{pmatrix}\n",
        "$$\n",
        "\n",
        "\n",
        "**A + 2B = ?**\n",
        "\n",
        "**B + 2C = ?**"
      ],
      "metadata": {
        "id": "3QGb9TRNyH4M"
      }
    },
    {
      "cell_type": "code",
      "source": [
        "import numpy as np\n",
        "A = np.matrix([[1, 2, 1], [-2, 1, 1]])\n",
        "B = np.matrix([[3, 1], [-1, 0], [2, 4]])\n",
        "C = np.matrix([[-2, 2], [1, -1], [1, 2]])\n",
        "Bt = np.transpose(B)\n",
        "print(A + 2 * Bt)\n",
        "print()\n",
        "print(B + 2 * C)"
      ],
      "metadata": {
        "colab": {
          "base_uri": "https://localhost:8080/"
        },
        "id": "83AYb4qnyfjd",
        "outputId": "147e0c9f-b9cd-44d5-c43f-de2228d9aed4"
      },
      "execution_count": 14,
      "outputs": [
        {
          "output_type": "stream",
          "name": "stdout",
          "text": [
            "[[7 0 5]\n",
            " [0 1 9]]\n",
            "\n",
            "[[-1  5]\n",
            " [ 1 -2]\n",
            " [ 4  8]]\n"
          ]
        }
      ]
    },
    {
      "cell_type": "markdown",
      "source": [
        "# задача 2\n",
        "Создать матрицу размером 8х8 элементов, состоящую из нулей.\n",
        "\n",
        "Заполнить эту матрицу значениями, расположенными в шахматном порядке.\n",
        "\n",
        "Задачу решить через срезы массива NumPy."
      ],
      "metadata": {
        "id": "w8GJYi0p7ZeZ"
      }
    },
    {
      "cell_type": "code",
      "execution_count": 2,
      "metadata": {
        "colab": {
          "base_uri": "https://localhost:8080/"
        },
        "id": "g8Rm047Rq1wx",
        "outputId": "16d96b5e-06bd-4bfc-bb3f-68393b393484"
      },
      "outputs": [
        {
          "output_type": "stream",
          "name": "stdout",
          "text": [
            "[[0. 1. 0. 1. 0. 1. 0. 1.]\n",
            " [1. 0. 1. 0. 1. 0. 1. 0.]\n",
            " [0. 1. 0. 1. 0. 1. 0. 1.]\n",
            " [1. 0. 1. 0. 1. 0. 1. 0.]\n",
            " [0. 1. 0. 1. 0. 1. 0. 1.]\n",
            " [1. 0. 1. 0. 1. 0. 1. 0.]\n",
            " [0. 1. 0. 1. 0. 1. 0. 1.]\n",
            " [1. 0. 1. 0. 1. 0. 1. 0.]]\n"
          ]
        }
      ],
      "source": [
        "import numpy as np\n",
        "A = np.zeros((8, 8))\n",
        "A[1::2,::2] = 1\n",
        "A[::2,1::2] = 1\n",
        "print(A)"
      ]
    },
    {
      "cell_type": "markdown",
      "source": [],
      "metadata": {
        "id": "WAmpsf8BM-IL"
      }
    },
    {
      "cell_type": "markdown",
      "source": [
        "# задача 3\n",
        "\n",
        "1.   Сформировать два вектора: первый длиной 15 элементов со значениями от 0 до 1,4 с шагом 0,1; второй – длиной 6 элементов со значениями от 1 до 6.\n",
        "2.   Преобразовать первый вектор в матрицу 5х3, а второй – в матрицу 3х2. Выполнить перемножение этих матриц. Сами матрицы и результат их перемножения вывести на экран.\n"
      ],
      "metadata": {
        "id": "7yeYX3idM-yr"
      }
    },
    {
      "cell_type": "code",
      "source": [
        "import numpy as np\n",
        "A = np.linspace(0, 1.4, 15).reshape(5, 3)\n",
        "B = np.linspace(1, 6, 6).reshape(3, 2)\n",
        "print(A)\n",
        "print()\n",
        "print(B)\n",
        "print()\n",
        "print(np.asmatrix(A) * np.asmatrix(B))"
      ],
      "metadata": {
        "colab": {
          "base_uri": "https://localhost:8080/"
        },
        "id": "Dws6nsIUOT5S",
        "outputId": "ae61b308-7fa6-49e2-ee02-16a37b6a9130"
      },
      "execution_count": 15,
      "outputs": [
        {
          "output_type": "stream",
          "name": "stdout",
          "text": [
            "[[0.  0.1 0.2]\n",
            " [0.3 0.4 0.5]\n",
            " [0.6 0.7 0.8]\n",
            " [0.9 1.  1.1]\n",
            " [1.2 1.3 1.4]]\n",
            "\n",
            "[[1. 2.]\n",
            " [3. 4.]\n",
            " [5. 6.]]\n",
            "\n",
            "[[ 1.3  1.6]\n",
            " [ 4.   5.2]\n",
            " [ 6.7  8.8]\n",
            " [ 9.4 12.4]\n",
            " [12.1 16. ]]\n"
          ]
        }
      ]
    },
    {
      "cell_type": "markdown",
      "source": [],
      "metadata": {
        "id": "pxSHaJFqSrXN"
      }
    },
    {
      "cell_type": "markdown",
      "source": [
        "# задача 4\n",
        "\n",
        "1.   Сформировать вектор из целых чисел (тип элементов должен быть int32) размерностью 36 и значениями 1,3,5,7,...и так далее\n",
        "2.   Выделить из этого вектора все элементы со значениями кратными 3. Вывести результат на экран (исходный вектор и с кратными числами).\n"
      ],
      "metadata": {
        "id": "QemIAixsSt7U"
      }
    },
    {
      "cell_type": "code",
      "source": [
        "import numpy as np\n",
        "vector = np.arange(1, 72, 2, dtype=np.int32)\n",
        "print(vector)\n",
        "vector_filtered = vector[np.where(vector % 3 == 0)]\n",
        "print(vector_filtered)"
      ],
      "metadata": {
        "colab": {
          "base_uri": "https://localhost:8080/"
        },
        "id": "TX3GEGyOSnvf",
        "outputId": "2a3bba5f-e5d9-4396-904a-b3517731e18f"
      },
      "execution_count": 12,
      "outputs": [
        {
          "output_type": "stream",
          "name": "stdout",
          "text": [
            "[ 1  3  5  7  9 11 13 15 17 19 21 23 25 27 29 31 33 35 37 39 41 43 45 47\n",
            " 49 51 53 55 57 59 61 63 65 67 69 71]\n",
            "[ 3  9 15 21 27 33 39 45 51 57 63 69]\n"
          ]
        }
      ]
    }
  ]
}